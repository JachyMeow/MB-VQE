{
 "cells": [
  {
   "cell_type": "code",
   "execution_count": 2,
   "metadata": {},
   "outputs": [],
   "source": [
    "import numpy as np\n",
    "from qiskit import QuantumCircuit\n",
    "from qiskit import execute\n",
    "from qiskit import Aer\n",
    "from qiskit.quantum_info import  Statevector\n",
    "from qiskit.visualization import plot_histogram"
   ]
  },
  {
   "cell_type": "code",
   "execution_count": 23,
   "metadata": {},
   "outputs": [
    {
     "data": {
      "text/plain": [
       "<qiskit.circuit.instructionset.InstructionSet at 0x23c49a4b7c0>"
      ]
     },
     "execution_count": 23,
     "metadata": {},
     "output_type": "execute_result"
    }
   ],
   "source": [
    "simulator = Aer.get_backend('qasm_simulator')\n",
    "circ = QuantumCircuit(4, 4)\n",
    "circ.h(1)\n",
    "circ.h(2)\n",
    "circ.cz(0,1)\n",
    "circ.cz(1,2)\n",
    "circ.cz(1,3)\n",
    "circ.barrier(0)\n",
    "circ.barrier(0)\n",
    "circ.barrier()\n",
    "\n",
    "circ.h(0)\n",
    "circ.measure(0,0)\n",
    "circ.h(0)\n",
    "circ.h(1)\n",
    "circ.measure(1,1)\n",
    "circ.h(1)\n",
    "circ.barrier()\n",
    "circ.measure(2,2)\n",
    "circ.measure(3,3)\n"
   ]
  },
  {
   "cell_type": "code",
   "execution_count": 24,
   "metadata": {},
   "outputs": [
    {
     "data": {
      "text/html": [
       "<pre style=\"word-wrap: normal;white-space: pre;background: #fff0;line-height: 1.1;font-family: &quot;Courier New&quot;,Courier,monospace\">              ░  ░  ░ ┌───┐┌─┐┌───┐      ░       \n",
       "q_0: ──────■──░──░──░─┤ H ├┤M├┤ H ├──────░───────\n",
       "     ┌───┐ │  ░  ░  ░ ├───┤└╥┘└┬─┬┘┌───┐ ░       \n",
       "q_1: ┤ H ├─■──■──■──░─┤ H ├─╫──┤M├─┤ H ├─░───────\n",
       "     ├───┤    │  │  ░ └───┘ ║  └╥┘ └───┘ ░ ┌─┐   \n",
       "q_2: ┤ H ├────■──┼──░───────╫───╫────────░─┤M├───\n",
       "     └───┘       │  ░       ║   ║        ░ └╥┘┌─┐\n",
       "q_3: ────────────■──░───────╫───╫────────░──╫─┤M├\n",
       "                    ░       ║   ║        ░  ║ └╥┘\n",
       "c_0: ═══════════════════════╩═══╬═══════════╬══╬═\n",
       "                                ║           ║  ║ \n",
       "c_1: ═══════════════════════════╩═══════════╬══╬═\n",
       "                                            ║  ║ \n",
       "c_2: ═══════════════════════════════════════╩══╬═\n",
       "                                               ║ \n",
       "c_3: ══════════════════════════════════════════╩═\n",
       "                                                 </pre>"
      ],
      "text/plain": [
       "              ░  ░  ░ ┌───┐┌─┐┌───┐      ░       \n",
       "q_0: ──────■──░──░──░─┤ H ├┤M├┤ H ├──────░───────\n",
       "     ┌───┐ │  ░  ░  ░ ├───┤└╥┘└┬─┬┘┌───┐ ░       \n",
       "q_1: ┤ H ├─■──■──■──░─┤ H ├─╫──┤M├─┤ H ├─░───────\n",
       "     ├───┤    │  │  ░ └───┘ ║  └╥┘ └───┘ ░ ┌─┐   \n",
       "q_2: ┤ H ├────■──┼──░───────╫───╫────────░─┤M├───\n",
       "     └───┘       │  ░       ║   ║        ░ └╥┘┌─┐\n",
       "q_3: ────────────■──░───────╫───╫────────░──╫─┤M├\n",
       "                    ░       ║   ║        ░  ║ └╥┘\n",
       "c_0: ═══════════════════════╩═══╬═══════════╬══╬═\n",
       "                                ║           ║  ║ \n",
       "c_1: ═══════════════════════════╩═══════════╬══╬═\n",
       "                                            ║  ║ \n",
       "c_2: ═══════════════════════════════════════╩══╬═\n",
       "                                               ║ \n",
       "c_3: ══════════════════════════════════════════╩═\n",
       "                                                 "
      ]
     },
     "execution_count": 24,
     "metadata": {},
     "output_type": "execute_result"
    }
   ],
   "source": [
    "circ.draw()"
   ]
  },
  {
   "cell_type": "code",
   "execution_count": 25,
   "metadata": {},
   "outputs": [
    {
     "name": "stdout",
     "output_type": "stream",
     "text": [
      "{'0001': 247, '0111': 267, '0000': 253, '0110': 257}\n"
     ]
    }
   ],
   "source": [
    "counts = execute(circ,simulator).result().get_counts() #使用指定的那个的模拟器运行电路，并获取运行结果，得到每种输入出现了几次(默认运行1024次)\n",
    "print(counts)"
   ]
  },
  {
   "cell_type": "code",
   "execution_count": 26,
   "metadata": {},
   "outputs": [
    {
     "data": {
      "image/png": "[encoded data removed]",
      "text/plain": [
       "<Figure size 504x360 with 1 Axes>"
      ]
     },
     "execution_count": 26,
     "metadata": {},
     "output_type": "execute_result"
    }
   ],
   "source": [
    "plot_histogram(counts)"
   ]
  }
 ],
 "metadata": {
  "kernelspec": {
   "display_name": "Python 3.10.0 64-bit",
   "language": "python",
   "name": "python3"
  },
  "language_info": {
   "codemirror_mode": {
    "name": "ipython",
    "version": 3
   },
   "file_extension": ".py",
   "mimetype": "text/x-python",
   "name": "python",
   "nbconvert_exporter": "python",
   "pygments_lexer": "ipython3",
   "version": "3.10.0"
  },
  "orig_nbformat": 4,
  "vscode": {
   "interpreter": {
    "hash": "2639b8a4f026f94da38e6f8f09e74dad89544dd50b05a326aa4e0660c84a8eb0"
   }
  }
 },
 "nbformat": 4,
 "nbformat_minor": 2
}
