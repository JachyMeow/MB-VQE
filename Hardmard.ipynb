{
 "cells": [
  {
   "cell_type": "code",
   "execution_count": 11,
   "metadata": {},
   "outputs": [],
   "source": [
    "import numpy as np\n",
    "import qiskit.circuit.instruction as ins\n",
    "from qiskit import QuantumCircuit, QuantumRegister, ClassicalRegister\n",
    "from qiskit import execute\n",
    "from qiskit import Aer\n",
    "from qiskit.quantum_info import  Statevector\n",
    "from qiskit.visualization import plot_histogram"
   ]
  },
  {
   "cell_type": "code",
   "execution_count": 42,
   "metadata": {},
   "outputs": [
    {
     "data": {
      "text/plain": [
       "<qiskit.circuit.instructionset.InstructionSet at 0x1bac3e3ab30>"
      ]
     },
     "execution_count": 42,
     "metadata": {},
     "output_type": "execute_result"
    }
   ],
   "source": [
    "simulator = Aer.get_backend('qasm_simulator')\n",
    "q = QuantumRegister(2)\n",
    "c = ClassicalRegister(2)\n",
    "circ = QuantumCircuit(q, c)\n",
    "m = 0\n",
    "circ.h(0)\n",
    "circ.h(1)\n",
    "circ.cz(0, 1)\n",
    "circ.barrier()\n",
    "circ.h(0)\n",
    "circ.measure(0, 0)\n",
    "circ.h(0)\n",
    "circ.x(1).c_if(0, 1)\n",
    "circ.barrier()\n",
    "circ.measure(1, 1)"
   ]
  },
  {
   "cell_type": "code",
   "execution_count": 43,
   "metadata": {},
   "outputs": [
    {
     "data": {
      "text/html": [
       "<pre style=\"word-wrap: normal;white-space: pre;background: #fff0;line-height: 1.1;font-family: &quot;Courier New&quot;,Courier,monospace\">       ┌───┐    ░ ┌───┐┌─┐┌───┐ ░    \n",
       "q58_0: ┤ H ├─■──░─┤ H ├┤M├┤ H ├─░────\n",
       "       ├───┤ │  ░ └───┘└╥┘├───┤ ░ ┌─┐\n",
       "q58_1: ┤ H ├─■──░───────╫─┤ X ├─░─┤M├\n",
       "       └───┘    ░       ║ └─╥─┘ ░ └╥┘\n",
       "c10_0: ═════════════════╩═══■══════╬═\n",
       "                                   ║ \n",
       "c10_1: ════════════════════════════╩═\n",
       "                                     </pre>"
      ],
      "text/plain": [
       "       ┌───┐    ░ ┌───┐┌─┐┌───┐ ░    \n",
       "q58_0: ┤ H ├─■──░─┤ H ├┤M├┤ H ├─░────\n",
       "       ├───┤ │  ░ └───┘└╥┘├───┤ ░ ┌─┐\n",
       "q58_1: ┤ H ├─■──░───────╫─┤ X ├─░─┤M├\n",
       "       └───┘    ░       ║ └─╥─┘ ░ └╥┘\n",
       "c10_0: ═════════════════╩═══■══════╬═\n",
       "                                   ║ \n",
       "c10_1: ════════════════════════════╩═\n",
       "                                     "
      ]
     },
     "execution_count": 43,
     "metadata": {},
     "output_type": "execute_result"
    }
   ],
   "source": [
    "circ.draw()"
   ]
  },
  {
   "cell_type": "code",
   "execution_count": 44,
   "metadata": {},
   "outputs": [
    {
     "name": "stdout",
     "output_type": "stream",
     "text": [
      "{'00': 487, '01': 537}\n"
     ]
    }
   ],
   "source": [
    "counts = execute(circ,simulator).result().get_counts() #使用指定的那个的模拟器运行电路，并获取运行结果，得到每种输入出现了几次(默认运行1024次)\n",
    "print(counts)"
   ]
  }
 ],
 "metadata": {
  "kernelspec": {
   "display_name": "Python 3.10.0 64-bit",
   "language": "python",
   "name": "python3"
  },
  "language_info": {
   "codemirror_mode": {
    "name": "ipython",
    "version": 3
   },
   "file_extension": ".py",
   "mimetype": "text/x-python",
   "name": "python",
   "nbconvert_exporter": "python",
   "pygments_lexer": "ipython3",
   "version": "3.10.0"
  },
  "orig_nbformat": 4,
  "vscode": {
   "interpreter": {
    "hash": "2639b8a4f026f94da38e6f8f09e74dad89544dd50b05a326aa4e0660c84a8eb0"
   }
  }
 },
 "nbformat": 4,
 "nbformat_minor": 2
}
