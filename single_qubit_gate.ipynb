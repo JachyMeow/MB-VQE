{
 "cells": [
  {
   "cell_type": "code",
   "execution_count": 3,
   "metadata": {},
   "outputs": [],
   "source": [
    "import numpy as np\n",
    "import qiskit.circuit.instruction as ins\n",
    "from qiskit import QuantumCircuit, QuantumRegister, ClassicalRegister\n",
    "from qiskit import execute\n",
    "from qiskit import Aer\n",
    "from qiskit.quantum_info import  Statevector\n",
    "from qiskit.visualization import plot_histogram"
   ]
  },
  {
   "cell_type": "code",
   "execution_count": 26,
   "metadata": {},
   "outputs": [],
   "source": [
    "def single_qubit_gate(a, b, c):\n",
    "    circ = QuantumCircuit(4, 4)\n",
    "    circ.h(range(4))\n",
    "    circ.cz(range(3), range(1, 4))\n",
    "    circ.barrier()\n",
    "    circ.rx(a, 0)\n",
    "    circ.rx(b, 1)\n",
    "    circ.rx(c, 2)\n",
    "    circ.h(range(3))\n",
    "    circ.measure(range(3), range(3))\n",
    "    circ.h(range(3))\n",
    "    circ.barrier()\n",
    "    circ.x(3).c_if(2,1)\n",
    "    circ.z(3).c_if(1,1)\n",
    "    circ.x(3).c_if(0,1)\n",
    "    circ.barrier()\n",
    "    circ.measure(3, 3)\n",
    "    circ.draw()\n",
    "    return circ"
   ]
  },
  {
   "cell_type": "code",
   "execution_count": 27,
   "metadata": {},
   "outputs": [
    {
     "data": {
      "text/html": [
       "<pre style=\"word-wrap: normal;white-space: pre;background: #fff0;line-height: 1.1;font-family: &quot;Courier New&quot;,Courier,monospace\">     ┌───┐          ░  ┌───────┐ ┌───┐┌─┐┌───┐           ░                 ░ »\n",
       "q_0: ┤ H ├─■────────░──┤ Rx(0) ├─┤ H ├┤M├┤ H ├───────────░─────────────────░─»\n",
       "     ├───┤ │        ░ ┌┴───────┴┐├───┤└╥┘└┬─┬┘┌───┐      ░                 ░ »\n",
       "q_1: ┤ H ├─■──■─────░─┤ Rx(π/2) ├┤ H ├─╫──┤M├─┤ H ├──────░─────────────────░─»\n",
       "     ├───┤    │     ░ └┬───────┬┘├───┤ ║  └╥┘ └┬─┬┘┌───┐ ░                 ░ »\n",
       "q_2: ┤ H ├────■──■──░──┤ Rx(0) ├─┤ H ├─╫───╫───┤M├─┤ H ├─░─────────────────░─»\n",
       "     ├───┤       │  ░  └───────┘ └───┘ ║   ║   └╥┘ └───┘ ░ ┌───┐┌───┐┌───┐ ░ »\n",
       "q_3: ┤ H ├───────■──░──────────────────╫───╫────╫────────░─┤ X ├┤ Z ├┤ X ├─░─»\n",
       "     └───┘          ░                  ║   ║    ║        ░ └─╥─┘└─╥─┘└─╥─┘ ░ »\n",
       "c_0: ══════════════════════════════════╩═══╬════╬════════════╬════╬════■═════»\n",
       "                                           ║    ║            ║    ║          »\n",
       "c_1: ══════════════════════════════════════╩════╬════════════╬════■══════════»\n",
       "                                                ║            ║               »\n",
       "c_2: ═══════════════════════════════════════════╩════════════■═══════════════»\n",
       "                                                                             »\n",
       "c_3: ════════════════════════════════════════════════════════════════════════»\n",
       "                                                                             »\n",
       "«        \n",
       "«q_0: ───\n",
       "«        \n",
       "«q_1: ───\n",
       "«        \n",
       "«q_2: ───\n",
       "«     ┌─┐\n",
       "«q_3: ┤M├\n",
       "«     └╥┘\n",
       "«c_0: ═╬═\n",
       "«      ║ \n",
       "«c_1: ═╬═\n",
       "«      ║ \n",
       "«c_2: ═╬═\n",
       "«      ║ \n",
       "«c_3: ═╩═\n",
       "«        </pre>"
      ],
      "text/plain": [
       "     ┌───┐          ░  ┌───────┐ ┌───┐┌─┐┌───┐           ░                 ░ »\n",
       "q_0: ┤ H ├─■────────░──┤ Rx(0) ├─┤ H ├┤M├┤ H ├───────────░─────────────────░─»\n",
       "     ├───┤ │        ░ ┌┴───────┴┐├───┤└╥┘└┬─┬┘┌───┐      ░                 ░ »\n",
       "q_1: ┤ H ├─■──■─────░─┤ Rx(π/2) ├┤ H ├─╫──┤M├─┤ H ├──────░─────────────────░─»\n",
       "     ├───┤    │     ░ └┬───────┬┘├───┤ ║  └╥┘ └┬─┬┘┌───┐ ░                 ░ »\n",
       "q_2: ┤ H ├────■──■──░──┤ Rx(0) ├─┤ H ├─╫───╫───┤M├─┤ H ├─░─────────────────░─»\n",
       "     ├───┤       │  ░  └───────┘ └───┘ ║   ║   └╥┘ └───┘ ░ ┌───┐┌───┐┌───┐ ░ »\n",
       "q_3: ┤ H ├───────■──░──────────────────╫───╫────╫────────░─┤ X ├┤ Z ├┤ X ├─░─»\n",
       "     └───┘          ░                  ║   ║    ║        ░ └─╥─┘└─╥─┘└─╥─┘ ░ »\n",
       "c_0: ══════════════════════════════════╩═══╬════╬════════════╬════╬════■═════»\n",
       "                                           ║    ║            ║    ║          »\n",
       "c_1: ══════════════════════════════════════╩════╬════════════╬════■══════════»\n",
       "                                                ║            ║               »\n",
       "c_2: ═══════════════════════════════════════════╩════════════■═══════════════»\n",
       "                                                                             »\n",
       "c_3: ════════════════════════════════════════════════════════════════════════»\n",
       "                                                                             »\n",
       "«        \n",
       "«q_0: ───\n",
       "«        \n",
       "«q_1: ───\n",
       "«        \n",
       "«q_2: ───\n",
       "«     ┌─┐\n",
       "«q_3: ┤M├\n",
       "«     └╥┘\n",
       "«c_0: ═╬═\n",
       "«      ║ \n",
       "«c_1: ═╬═\n",
       "«      ║ \n",
       "«c_2: ═╬═\n",
       "«      ║ \n",
       "«c_3: ═╩═\n",
       "«        "
      ]
     },
     "execution_count": 27,
     "metadata": {},
     "output_type": "execute_result"
    }
   ],
   "source": [
    "circ = single_qubit_gate(0, 1.5707963, 0)\n",
    "circ.draw()"
   ]
  },
  {
   "cell_type": "code",
   "execution_count": 28,
   "metadata": {},
   "outputs": [
    {
     "name": "stdout",
     "output_type": "stream",
     "text": [
      "{'0001': 135, '0101': 126, '0010': 124, '0111': 131, '0011': 127, '0000': 125, '0100': 120, '0110': 136}\n"
     ]
    }
   ],
   "source": [
    "simulator = Aer.get_backend('qasm_simulator')\n",
    "counts = execute(circ,simulator).result().get_counts() #使用指定的那个的模拟器运行电路，并获取运行结果，得到每种输入出现了几次(默认运行1024次)\n",
    "print(counts)"
   ]
  }
 ],
 "metadata": {
  "kernelspec": {
   "display_name": "Python 3.10.0 64-bit",
   "language": "python",
   "name": "python3"
  },
  "language_info": {
   "codemirror_mode": {
    "name": "ipython",
    "version": 3
   },
   "file_extension": ".py",
   "mimetype": "text/x-python",
   "name": "python",
   "nbconvert_exporter": "python",
   "pygments_lexer": "ipython3",
   "version": "3.10.0"
  },
  "orig_nbformat": 4,
  "vscode": {
   "interpreter": {
    "hash": "2639b8a4f026f94da38e6f8f09e74dad89544dd50b05a326aa4e0660c84a8eb0"
   }
  }
 },
 "nbformat": 4,
 "nbformat_minor": 2
}
